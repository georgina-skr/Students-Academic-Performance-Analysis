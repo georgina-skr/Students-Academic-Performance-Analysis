{
 "cells": [
  {
   "cell_type": "markdown",
   "metadata": {},
   "source": [
    "# Learning Analytics\n",
    "### Panagiotis Maroulidis A.M.: 37\n",
    "### Georgina Skraparli A.M.: 31"
   ]
  },
  {
   "cell_type": "markdown",
   "metadata": {},
   "source": [
    "## Analysis\n",
    "\n",
    "**Paper used:** Amrieh, E. A., Hamtini, T., & Aljarah, I. (2016). Mining Educational Data to Predict Student’s academic Performance using Ensemble Methods. International Journal of Database Theory and Application, 9(8), 119-136.\n",
    "\n",
    "**Dataset:** datasets_436_920_xAPI-Edu-Data.csv (https://www.kaggle.com/aljarah/xAPI-Edu-Data)\n",
    "\n",
    "In this paper, there is a proposal about a new student’s performance prediction model based on data mining techniques with the 10 filter-based highest ranked features in which new data attributes/features were included that are called student’s behavioral features (student's interaction with e-learning management system). The classifiers that were used are: Artificial Neural Network, Naïve Bayesian and Decision tree with ensemble methods (Bagging, Boosting and Random Forest (RF)). According to the paper's results there is a strong relationship between learner’s behaviors and their academic achievement.\n",
    "\n",
    "There aren't any missing values in the dataset.\n",
    "\n",
    "In the following analysis we used the following techniques:\n",
    "- **Correlation** between 10 highest ranked features used in the paper and the student's academic achievement\n",
    "- **(Multiple) Linear Regression** for predicting the student's academic achievement from student’s behavioral features \n",
    "- **Decision Tree** with student’s behavioral features as training variables   \n",
    "- **Decision Tree with Boosting (Adaboost)** with student’s behavioral features as training variables"
   ]
  },
  {
   "cell_type": "markdown",
   "metadata": {},
   "source": [
    "**Import libraries**"
   ]
  },
  {
   "cell_type": "code",
   "execution_count": 71,
   "metadata": {},
   "outputs": [],
   "source": [
    "import numpy as np\n",
    "import scipy as sp\n",
    "import scipy.stats as st\n",
    "import pandas as pd\n",
    "import matplotlib.pyplot as plt\n",
    "%matplotlib inline\n",
    "from sklearn.model_selection import train_test_split\n",
    "from sklearn.model_selection import GridSearchCV\n",
    "from sklearn.tree import DecisionTreeClassifier\n",
    "from sklearn.metrics import accuracy_score, f1_score, precision_score, recall_score\n",
    "from sklearn import tree"
   ]
  },
  {
   "cell_type": "markdown",
   "metadata": {},
   "source": [
    "**Read file**"
   ]
  },
  {
   "cell_type": "code",
   "execution_count": 72,
   "metadata": {},
   "outputs": [],
   "source": [
    "# Read from file\n",
    "df = pd.read_csv(\"datasets_436_920_xAPI-Edu-Data.csv\") "
   ]
  },
  {
   "cell_type": "markdown",
   "metadata": {},
   "source": [
    "**Convert categorical data to numbers**  \n",
    "<br/>(Only those from 10 highest ranked features used in the paper and the student's academic achievement)"
   ]
  },
  {
   "cell_type": "code",
   "execution_count": 73,
   "metadata": {},
   "outputs": [],
   "source": [
    "# Parent School Satisfaction- the Degree of parent satisfaction from school(nominal:’Bad’,’Good’)\n",
    "df = df.replace({'ParentschoolSatisfaction': {'Bad': 0, 'Good': 1}})\n",
    "\n",
    "# Place of birth- student's Place of birth (nominal:’ Kuwait’,’ Lebanon’,’ Egypt’,’ SaudiArabia’,’ USA’,’ Jordan’,’\n",
    "# Venezuela’,’ Iran’,’ Tunis’,’ Morocco’,’ Syria’,’ Palestine’,’ Iraq’,’ Lybia’)\n",
    "# with label encoding technique\n",
    "df[\"PlaceofBirth\"] = df[\"PlaceofBirth\"].astype('category')\n",
    "df[\"PlaceofBirth\"]= df[\"PlaceofBirth\"].cat.codes\n",
    "\n",
    "# Relation- Parent responsible for student (nominal:’Mum’,’Father’)\n",
    "df = df.replace({'Relation': {'Mum': 0, 'Father': 1}})\n",
    "\n",
    "# Nationality- student's nationality (nominal:’ Kuwait’,’ Lebanon’,’ Egypt’,’ SaudiArabia’,’ USA’,’ Jordan’,’\n",
    "# Venezuela’,’ Iran’,’ Tunis’,’ Morocco’,’ Syria’,’ Palestine’,’ Iraq’,’ Lybia’)\n",
    "# with label encoding technique\n",
    "df[\"NationalITy\"] = df[\"NationalITy\"].astype('category')\n",
    "df[\"NationalITy\"]= df[\"NationalITy\"].cat.codes\n",
    "\n",
    "#  Parent Answering Survey- parent answered the surveys which are provided from school or not\n",
    "# (nominal:’Yes’,’No’)\n",
    "df = df.replace({'ParentAnsweringSurvey': {'No': 0, 'Yes': 1}})\n",
    "\n",
    "# Student Absence Days-the number of absence days for each student (nominal: Under-7, Above-7)\n",
    "df = df.replace({'StudentAbsenceDays': {'Under-7': 0, 'Above-7': 1}})\n",
    "\n",
    "# Class- student's academic achievement (nominal: L, M, H)\n",
    "df = df.replace({'Class': {'L': 0, 'M': 1, 'H': 2}})"
   ]
  },
  {
   "cell_type": "markdown",
   "metadata": {},
   "source": [
    "## Correlation\n",
    "Correlation between 10 highest ranked features used in the paper and the student's academic achievement"
   ]
  },
  {
   "cell_type": "code",
   "execution_count": 74,
   "metadata": {},
   "outputs": [
    {
     "data": {
      "text/html": [
       "<div>\n",
       "<style scoped>\n",
       "    .dataframe tbody tr th:only-of-type {\n",
       "        vertical-align: middle;\n",
       "    }\n",
       "\n",
       "    .dataframe tbody tr th {\n",
       "        vertical-align: top;\n",
       "    }\n",
       "\n",
       "    .dataframe thead th {\n",
       "        text-align: right;\n",
       "    }\n",
       "</style>\n",
       "<table border=\"1\" class=\"dataframe\">\n",
       "  <thead>\n",
       "    <tr style=\"text-align: right;\">\n",
       "      <th></th>\n",
       "      <th>NationalITy</th>\n",
       "      <th>PlaceofBirth</th>\n",
       "      <th>Relation</th>\n",
       "      <th>raisedhands</th>\n",
       "      <th>VisITedResources</th>\n",
       "      <th>AnnouncementsView</th>\n",
       "      <th>Discussion</th>\n",
       "      <th>ParentAnsweringSurvey</th>\n",
       "      <th>ParentschoolSatisfaction</th>\n",
       "      <th>StudentAbsenceDays</th>\n",
       "      <th>Class</th>\n",
       "    </tr>\n",
       "  </thead>\n",
       "  <tbody>\n",
       "    <tr>\n",
       "      <td>NationalITy</td>\n",
       "      <td>1.000000</td>\n",
       "      <td>0.786798</td>\n",
       "      <td>-0.003212</td>\n",
       "      <td>0.111533</td>\n",
       "      <td>0.028793</td>\n",
       "      <td>0.062827</td>\n",
       "      <td>-0.063386</td>\n",
       "      <td>0.079380</td>\n",
       "      <td>-0.001701</td>\n",
       "      <td>-0.157116</td>\n",
       "      <td>0.094640</td>\n",
       "    </tr>\n",
       "    <tr>\n",
       "      <td>PlaceofBirth</td>\n",
       "      <td>0.786798</td>\n",
       "      <td>1.000000</td>\n",
       "      <td>-0.031632</td>\n",
       "      <td>0.077986</td>\n",
       "      <td>0.033798</td>\n",
       "      <td>0.078636</td>\n",
       "      <td>0.006262</td>\n",
       "      <td>0.040887</td>\n",
       "      <td>-0.094594</td>\n",
       "      <td>-0.134554</td>\n",
       "      <td>0.096571</td>\n",
       "    </tr>\n",
       "    <tr>\n",
       "      <td>Relation</td>\n",
       "      <td>-0.003212</td>\n",
       "      <td>-0.031632</td>\n",
       "      <td>1.000000</td>\n",
       "      <td>-0.364237</td>\n",
       "      <td>-0.360240</td>\n",
       "      <td>-0.339505</td>\n",
       "      <td>-0.026720</td>\n",
       "      <td>-0.163811</td>\n",
       "      <td>-0.287698</td>\n",
       "      <td>0.219687</td>\n",
       "      <td>-0.401142</td>\n",
       "    </tr>\n",
       "    <tr>\n",
       "      <td>raisedhands</td>\n",
       "      <td>0.111533</td>\n",
       "      <td>0.077986</td>\n",
       "      <td>-0.364237</td>\n",
       "      <td>1.000000</td>\n",
       "      <td>0.691572</td>\n",
       "      <td>0.643918</td>\n",
       "      <td>0.339386</td>\n",
       "      <td>0.316570</td>\n",
       "      <td>0.297015</td>\n",
       "      <td>-0.463882</td>\n",
       "      <td>0.646298</td>\n",
       "    </tr>\n",
       "    <tr>\n",
       "      <td>VisITedResources</td>\n",
       "      <td>0.028793</td>\n",
       "      <td>0.033798</td>\n",
       "      <td>-0.360240</td>\n",
       "      <td>0.691572</td>\n",
       "      <td>1.000000</td>\n",
       "      <td>0.594500</td>\n",
       "      <td>0.243292</td>\n",
       "      <td>0.382472</td>\n",
       "      <td>0.363835</td>\n",
       "      <td>-0.499030</td>\n",
       "      <td>0.677094</td>\n",
       "    </tr>\n",
       "    <tr>\n",
       "      <td>AnnouncementsView</td>\n",
       "      <td>0.062827</td>\n",
       "      <td>0.078636</td>\n",
       "      <td>-0.339505</td>\n",
       "      <td>0.643918</td>\n",
       "      <td>0.594500</td>\n",
       "      <td>1.000000</td>\n",
       "      <td>0.417290</td>\n",
       "      <td>0.396357</td>\n",
       "      <td>0.298744</td>\n",
       "      <td>-0.312134</td>\n",
       "      <td>0.527370</td>\n",
       "    </tr>\n",
       "    <tr>\n",
       "      <td>Discussion</td>\n",
       "      <td>-0.063386</td>\n",
       "      <td>0.006262</td>\n",
       "      <td>-0.026720</td>\n",
       "      <td>0.339386</td>\n",
       "      <td>0.243292</td>\n",
       "      <td>0.417290</td>\n",
       "      <td>1.000000</td>\n",
       "      <td>0.232197</td>\n",
       "      <td>0.061104</td>\n",
       "      <td>-0.218778</td>\n",
       "      <td>0.308183</td>\n",
       "    </tr>\n",
       "    <tr>\n",
       "      <td>ParentAnsweringSurvey</td>\n",
       "      <td>0.079380</td>\n",
       "      <td>0.040887</td>\n",
       "      <td>-0.163811</td>\n",
       "      <td>0.316570</td>\n",
       "      <td>0.382472</td>\n",
       "      <td>0.396357</td>\n",
       "      <td>0.232197</td>\n",
       "      <td>1.000000</td>\n",
       "      <td>0.539875</td>\n",
       "      <td>-0.261152</td>\n",
       "      <td>0.435495</td>\n",
       "    </tr>\n",
       "    <tr>\n",
       "      <td>ParentschoolSatisfaction</td>\n",
       "      <td>-0.001701</td>\n",
       "      <td>-0.094594</td>\n",
       "      <td>-0.287698</td>\n",
       "      <td>0.297015</td>\n",
       "      <td>0.363835</td>\n",
       "      <td>0.298744</td>\n",
       "      <td>0.061104</td>\n",
       "      <td>0.539875</td>\n",
       "      <td>1.000000</td>\n",
       "      <td>-0.228385</td>\n",
       "      <td>0.375901</td>\n",
       "    </tr>\n",
       "    <tr>\n",
       "      <td>StudentAbsenceDays</td>\n",
       "      <td>-0.157116</td>\n",
       "      <td>-0.134554</td>\n",
       "      <td>0.219687</td>\n",
       "      <td>-0.463882</td>\n",
       "      <td>-0.499030</td>\n",
       "      <td>-0.312134</td>\n",
       "      <td>-0.218778</td>\n",
       "      <td>-0.261152</td>\n",
       "      <td>-0.228385</td>\n",
       "      <td>1.000000</td>\n",
       "      <td>-0.671312</td>\n",
       "    </tr>\n",
       "    <tr>\n",
       "      <td>Class</td>\n",
       "      <td>0.094640</td>\n",
       "      <td>0.096571</td>\n",
       "      <td>-0.401142</td>\n",
       "      <td>0.646298</td>\n",
       "      <td>0.677094</td>\n",
       "      <td>0.527370</td>\n",
       "      <td>0.308183</td>\n",
       "      <td>0.435495</td>\n",
       "      <td>0.375901</td>\n",
       "      <td>-0.671312</td>\n",
       "      <td>1.000000</td>\n",
       "    </tr>\n",
       "  </tbody>\n",
       "</table>\n",
       "</div>"
      ],
      "text/plain": [
       "                          NationalITy  PlaceofBirth  Relation  raisedhands  \\\n",
       "NationalITy                  1.000000      0.786798 -0.003212     0.111533   \n",
       "PlaceofBirth                 0.786798      1.000000 -0.031632     0.077986   \n",
       "Relation                    -0.003212     -0.031632  1.000000    -0.364237   \n",
       "raisedhands                  0.111533      0.077986 -0.364237     1.000000   \n",
       "VisITedResources             0.028793      0.033798 -0.360240     0.691572   \n",
       "AnnouncementsView            0.062827      0.078636 -0.339505     0.643918   \n",
       "Discussion                  -0.063386      0.006262 -0.026720     0.339386   \n",
       "ParentAnsweringSurvey        0.079380      0.040887 -0.163811     0.316570   \n",
       "ParentschoolSatisfaction    -0.001701     -0.094594 -0.287698     0.297015   \n",
       "StudentAbsenceDays          -0.157116     -0.134554  0.219687    -0.463882   \n",
       "Class                        0.094640      0.096571 -0.401142     0.646298   \n",
       "\n",
       "                          VisITedResources  AnnouncementsView  Discussion  \\\n",
       "NationalITy                       0.028793           0.062827   -0.063386   \n",
       "PlaceofBirth                      0.033798           0.078636    0.006262   \n",
       "Relation                         -0.360240          -0.339505   -0.026720   \n",
       "raisedhands                       0.691572           0.643918    0.339386   \n",
       "VisITedResources                  1.000000           0.594500    0.243292   \n",
       "AnnouncementsView                 0.594500           1.000000    0.417290   \n",
       "Discussion                        0.243292           0.417290    1.000000   \n",
       "ParentAnsweringSurvey             0.382472           0.396357    0.232197   \n",
       "ParentschoolSatisfaction          0.363835           0.298744    0.061104   \n",
       "StudentAbsenceDays               -0.499030          -0.312134   -0.218778   \n",
       "Class                             0.677094           0.527370    0.308183   \n",
       "\n",
       "                          ParentAnsweringSurvey  ParentschoolSatisfaction  \\\n",
       "NationalITy                            0.079380                 -0.001701   \n",
       "PlaceofBirth                           0.040887                 -0.094594   \n",
       "Relation                              -0.163811                 -0.287698   \n",
       "raisedhands                            0.316570                  0.297015   \n",
       "VisITedResources                       0.382472                  0.363835   \n",
       "AnnouncementsView                      0.396357                  0.298744   \n",
       "Discussion                             0.232197                  0.061104   \n",
       "ParentAnsweringSurvey                  1.000000                  0.539875   \n",
       "ParentschoolSatisfaction               0.539875                  1.000000   \n",
       "StudentAbsenceDays                    -0.261152                 -0.228385   \n",
       "Class                                  0.435495                  0.375901   \n",
       "\n",
       "                          StudentAbsenceDays     Class  \n",
       "NationalITy                        -0.157116  0.094640  \n",
       "PlaceofBirth                       -0.134554  0.096571  \n",
       "Relation                            0.219687 -0.401142  \n",
       "raisedhands                        -0.463882  0.646298  \n",
       "VisITedResources                   -0.499030  0.677094  \n",
       "AnnouncementsView                  -0.312134  0.527370  \n",
       "Discussion                         -0.218778  0.308183  \n",
       "ParentAnsweringSurvey              -0.261152  0.435495  \n",
       "ParentschoolSatisfaction           -0.228385  0.375901  \n",
       "StudentAbsenceDays                  1.000000 -0.671312  \n",
       "Class                              -0.671312  1.000000  "
      ]
     },
     "execution_count": 74,
     "metadata": {},
     "output_type": "execute_result"
    }
   ],
   "source": [
    "# Method = pearson : standard correlation coefficient\n",
    "df.corr()"
   ]
  },
  {
   "cell_type": "markdown",
   "metadata": {},
   "source": [
    "As we can see the order from strongest to weakest correlation with Class (student's academic achievement) is: <br/>\n",
    "1) VisITedResources (0.677094) belongs to behavioral features<br/>\n",
    "2) StudentAbsenceDays (-0.671312) <br/> \n",
    "3) raisedhands (0.646298) belongs to behavioral features<br/>\n",
    "4) AnnouncementsView (0.527370) belongs to behavioral features<br/>\n",
    "5) ParentAnsweringSurvey (0.435495) belongs to behavioral features<br/>\n",
    "6) Relation (-0.401142) <br/>\n",
    "7) ParentschoolSatisfaction (0.375901) belongs to behavioral features<br/> \n",
    "8) Discussion (0.308183) belongs to behavioral features<br/>\n",
    "9) PlaceifBirth (0.096571) <br/>\n",
    "10) NationaliTy (0.094640) <br/>"
   ]
  },
  {
   "cell_type": "markdown",
   "metadata": {},
   "source": [
    "## Linear Regression\n",
    "Regression line for predicting student's academic achievement from student’s behavioral features"
   ]
  },
  {
   "cell_type": "code",
   "execution_count": null,
   "metadata": {},
   "outputs": [],
   "source": []
  },
  {
   "cell_type": "markdown",
   "metadata": {},
   "source": [
    "## Decision Tree\n",
    "Decision tree with student’s behavioral features as training variables"
   ]
  },
  {
   "cell_type": "markdown",
   "metadata": {},
   "source": [
    "**Data normalization**\n",
    "<br/>(student’s behavioral features and student's academic achievement)"
   ]
  },
  {
   "cell_type": "code",
   "execution_count": 75,
   "metadata": {},
   "outputs": [],
   "source": [
    "# Normalize function\n",
    "def normalize(dataset):\n",
    "    dataNorm=((dataset-dataset.min())/(dataset.max()-dataset.min()))\n",
    "    return dataNorm\n",
    "\n",
    "# Behavioral features\n",
    "df['Discussion']= normalize(df['Discussion'])\n",
    "df['VisITedResources'] = normalize(df['VisITedResources'])\n",
    "df['raisedhands'] = normalize(df['raisedhands'])\n",
    "df['AnnouncementsView'] = normalize(df['AnnouncementsView'])"
   ]
  },
  {
   "cell_type": "markdown",
   "metadata": {},
   "source": [
    "**Create training and feature**"
   ]
  },
  {
   "cell_type": "code",
   "execution_count": 76,
   "metadata": {},
   "outputs": [],
   "source": [
    "feature_cols = ['Discussion','VisITedResources', 'raisedhands', 'AnnouncementsView', 'ParentAnsweringSurvey', 'ParentschoolSatisfaction']\n",
    "X = df[feature_cols]\n",
    "y = df['Class']"
   ]
  },
  {
   "cell_type": "markdown",
   "metadata": {},
   "source": [
    "**Split data**"
   ]
  },
  {
   "cell_type": "code",
   "execution_count": 96,
   "metadata": {},
   "outputs": [],
   "source": [
    "#By default, the test_size is 25% and train_size is 75%\n",
    "X_train, X_test, y_train, y_test = train_test_split(X,y) "
   ]
  },
  {
   "cell_type": "markdown",
   "metadata": {},
   "source": [
    "**Decision Tree**"
   ]
  },
  {
   "cell_type": "code",
   "execution_count": 97,
   "metadata": {},
   "outputs": [
    {
     "name": "stdout",
     "output_type": "stream",
     "text": [
      "Mean cross-validated score of the best_estimator: 0.6473476475290096\n",
      "Τhe optimized maximum depth of the tree with 5- fold cross validation: {'max_depth': 3}\n"
     ]
    }
   ],
   "source": [
    "parameters = {'max_depth':range(3,20)}\n",
    "# Using GridSearchCV for optimizing parameters\n",
    "clf = GridSearchCV(DecisionTreeClassifier(), parameters, cv=5, error_score=np.nan, iid=False)\n",
    "clf.fit(X_train, y_train)\n",
    "tree_model = clf.best_estimator_\n",
    "print (\"Mean cross-validated score of the best_estimator:\",clf.best_score_)\n",
    "print (\"Τhe optimized maximum depth of the tree with 5- fold cross validation:\", clf.best_params_) "
   ]
  },
  {
   "cell_type": "markdown",
   "metadata": {},
   "source": [
    "**Evaluation Measures**"
   ]
  },
  {
   "cell_type": "code",
   "execution_count": 98,
   "metadata": {},
   "outputs": [
    {
     "name": "stdout",
     "output_type": "stream",
     "text": [
      "Accuracy:  0.6083333333333333\n",
      "Recall:  0.6179865885748239\n",
      "Precision:  0.738919413919414\n",
      "F-measure:  0.6011368632623578\n"
     ]
    }
   ],
   "source": [
    "y_pred = clf.predict(X_test)\n",
    "print(\"Accuracy: \",accuracy_score(y_test, y_pred))\n",
    "print(\"Recall: \",recall_score(y_test, y_pred, average=\"macro\"))    \n",
    "print(\"Precision: \",precision_score(y_test, y_pred, average=\"macro\"))\n",
    "print(\"F-measure: \",f1_score(y_test, y_pred, average=\"macro\"))"
   ]
  },
  {
   "cell_type": "markdown",
   "metadata": {},
   "source": [
    "**Tree model image**"
   ]
  },
  {
   "cell_type": "code",
   "execution_count": 99,
   "metadata": {},
   "outputs": [
    {
     "data": {
      "image/png": "[encoded data removed]",
      "text/plain": [
       "<Figure size 1200x1200 with 1 Axes>"
      ]
     },
     "metadata": {
      "needs_background": "light"
     },
     "output_type": "display_data"
    }
   ],
   "source": [
    "fig, axes = plt.subplots(nrows = 1,ncols = 1,figsize = (4,4), dpi=300)\n",
    "tree.plot_tree(tree_model,\n",
    "               feature_names = feature_cols, \n",
    "               class_names= ['0', '1','2'],\n",
    "               filled = True);\n",
    "fig.savefig('SimpleDT.png')"
   ]
  },
  {
   "cell_type": "markdown",
   "metadata": {},
   "source": [
    "**Conclusions**\n",
    "<br/> The results of decision tree's evaluation measures, in which only the student’s behavioral features are used, are better than using the 10 highest ranked features without behavioral features and worse than using all of the 10 highest ranked features as presented in the paper.\n",
    "<br/>Paper's results:\n",
    "![title](DTpaper.png)"
   ]
  },
  {
   "cell_type": "markdown",
   "metadata": {},
   "source": [
    "**Decision Tree with Boosting (Adaboost)** "
   ]
  },
  {
   "cell_type": "code",
   "execution_count": null,
   "metadata": {},
   "outputs": [],
   "source": []
  },
  {
   "cell_type": "markdown",
   "metadata": {},
   "source": [
    "**Evaluation Measures**"
   ]
  },
  {
   "cell_type": "code",
   "execution_count": null,
   "metadata": {},
   "outputs": [],
   "source": []
  },
  {
   "cell_type": "markdown",
   "metadata": {},
   "source": [
    "**Tree model image**"
   ]
  },
  {
   "cell_type": "code",
   "execution_count": null,
   "metadata": {},
   "outputs": [],
   "source": []
  },
  {
   "cell_type": "markdown",
   "metadata": {},
   "source": [
    "**Conclusions**"
   ]
  },
  {
   "cell_type": "code",
   "execution_count": null,
   "metadata": {},
   "outputs": [],
   "source": []
  },
  {
   "cell_type": "markdown",
   "metadata": {},
   "source": [
    "## Final Conclusions"
   ]
  },
  {
   "cell_type": "code",
   "execution_count": null,
   "metadata": {},
   "outputs": [],
   "source": []
  }
 ],
 "metadata": {
  "kernelspec": {
   "display_name": "Python 3",
   "language": "python",
   "name": "python3"
  },
  "language_info": {
   "codemirror_mode": {
    "name": "ipython",
    "version": 3
   },
   "file_extension": ".py",
   "mimetype": "text/x-python",
   "name": "python",
   "nbconvert_exporter": "python",
   "pygments_lexer": "ipython3",
   "version": "3.7.4"
  }
 },
 "nbformat": 4,
 "nbformat_minor": 2
}
